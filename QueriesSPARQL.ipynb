{
 "cells": [
  {
   "cell_type": "code",
   "execution_count": 2,
   "id": "e2514577",
   "metadata": {},
   "outputs": [
    {
     "data": {
      "text/html": [
       "<div class=\"krn-spql\"><div class=\"magic\">Endpoint set to: http://localhost:3030/SemScript</div></div>"
      ],
      "text/plain": [
       "Endpoint set to: http://localhost:3030/SemScript\n"
      ]
     },
     "metadata": {},
     "output_type": "display_data"
    }
   ],
   "source": [
    "%endpoint http://localhost:3030/SemScript"
   ]
  },
  {
   "cell_type": "markdown",
   "id": "5a5743d2",
   "metadata": {},
   "source": [
    "## Query 1\n",
    "Which characters speak in french at least once?"
   ]
  },
  {
   "cell_type": "code",
   "execution_count": 42,
   "id": "4fb1e3ef",
   "metadata": {},
   "outputs": [
    {
     "data": {
      "text/html": [
       "<div class=\"krn-spql\"><table><tr class=hdr><th>name</th></tr><tr class=odd><td class=val>SEAN</td></tr><tr class=even><td class=val>SEAN</td></tr><tr class=odd><td class=val>KENWRIGHT</td></tr></table><div class=\"tinfo\">Total: 3, Shown: 3</div></div>"
      ]
     },
     "metadata": {},
     "output_type": "display_data"
    }
   ],
   "source": [
    "PREFIX ex:      <http://www.semanticweb.org/elisabetta&amp;filippo/ontologies/2021/4/SemScript#>\n",
    "SELECT ?name \n",
    "WHERE { \n",
    "        ?character ex:hasName ?name.\n",
    "        ?character ex:says ?something.\n",
    "        FILTER regex(?something, \"(french)\", \"i\")}"
   ]
  },
  {
   "cell_type": "markdown",
   "id": "05e7ed85",
   "metadata": {},
   "source": [
    "## Query 2\n",
    "Which characters say the sentence \"Did you know\"?"
   ]
  },
  {
   "cell_type": "code",
   "execution_count": 22,
   "id": "08fa143c",
   "metadata": {},
   "outputs": [
    {
     "data": {
      "text/html": [
       "<div class=\"krn-spql\"><table><tr class=hdr><th>name</th></tr><tr class=odd><td class=val>MARK</td></tr><tr class=even><td class=val>MARK </td></tr><tr class=odd><td class=val>SY</td></tr><tr class=even><td class=val>GAGE</td></tr><tr class=odd><td class=val>CHRISTY</td></tr></table><div class=\"tinfo\">Total: 5, Shown: 5</div></div>"
      ]
     },
     "metadata": {},
     "output_type": "display_data"
    }
   ],
   "source": [
    "PREFIX ex:      <http://www.semanticweb.org/elisabetta&amp;filippo/ontologies/2021/4/SemScript#>\n",
    "SELECT distinct ?name\n",
    "WHERE { \n",
    "        ?character ex:hasName ?name.\n",
    "        ?character ex:says ?something.\n",
    "        FILTER regex(?something, \"Did you know\", \"i\")}"
   ]
  },
  {
   "cell_type": "markdown",
   "id": "e9e9d369",
   "metadata": {},
   "source": [
    "## Query 3\n",
    "Which are the numbers of the scenes played in a New York taxicab during night?\n"
   ]
  },
  {
   "cell_type": "code",
   "execution_count": 5,
   "id": "51888985",
   "metadata": {},
   "outputs": [
    {
     "data": {
      "text/html": [
       "<div class=\"krn-spql\"><table><tr class=hdr><th>number</th></tr><tr class=odd><td class=val>136</td></tr></table><div class=\"tinfo\">Total: 1, Shown: 1</div></div>"
      ]
     },
     "metadata": {},
     "output_type": "display_data"
    }
   ],
   "source": [
    "PREFIX ex:      <http://www.semanticweb.org/elisabetta&amp;filippo/ontologies/2021/4/SemScript#>\n",
    "SELECT ?number\n",
    "WHERE { ?scene ex:location ?location.\n",
    "        ?scene ex:time ?time.\n",
    "        ?scene ex:sceneNumber ?number.\n",
    "        FILTER (?location = \"NY TAXICAB\" && ?time = \"NIGHT\")}"
   ]
  },
  {
   "cell_type": "markdown",
   "id": "c66be401",
   "metadata": {},
   "source": [
    "## Query 4 \n",
    "Which are the pages occupied by the scene number 0?\n"
   ]
  },
  {
   "cell_type": "code",
   "execution_count": 23,
   "id": "be15b9f8",
   "metadata": {},
   "outputs": [
    {
     "data": {
      "text/html": [
       "<div class=\"krn-spql\"><table><tr class=hdr><th>page</th></tr><tr class=odd><td class=val>1</td></tr><tr class=even><td class=val>2</td></tr><tr class=odd><td class=val>3</td></tr><tr class=even><td class=val>4</td></tr><tr class=odd><td class=val>5</td></tr><tr class=even><td class=val>6</td></tr><tr class=odd><td class=val>7</td></tr><tr class=even><td class=val>8</td></tr><tr class=odd><td class=val>9</td></tr></table><div class=\"tinfo\">Total: 9, Shown: 9</div></div>"
      ]
     },
     "metadata": {},
     "output_type": "display_data"
    }
   ],
   "source": [
    "PREFIX ex:      <http://www.semanticweb.org/elisabetta&amp;filippo/ontologies/2021/4/SemScript#>\n",
    "PREFIX xsd: <http://www.w3.org/2001/XMLSchema#>\n",
    "\n",
    "SELECT ?page\n",
    "WHERE { ?scene ex:scene_number 0.\n",
    "        ?scene ex:page ?page.}\n",
    "ORDER BY ASC(?page)"
   ]
  },
  {
   "cell_type": "markdown",
   "id": "562ff7a5",
   "metadata": {},
   "source": [
    "## Query 5\n",
    "In which part of the day does the scene number 5 take place?"
   ]
  },
  {
   "cell_type": "code",
   "execution_count": 28,
   "id": "57a9c79a",
   "metadata": {},
   "outputs": [
    {
     "data": {
      "text/html": [
       "<div class=\"krn-spql\"><table><tr class=hdr><th>time</th></tr><tr class=odd><td class=val>DAY</td></tr><tr class=even><td class=val>ANOTHER</td></tr><tr class=odd><td class=val>NIGHT</td></tr></table><div class=\"tinfo\">Total: 3, Shown: 3</div></div>"
      ]
     },
     "metadata": {},
     "output_type": "display_data"
    }
   ],
   "source": [
    "PREFIX ex:      <http://www.semanticweb.org/elisabetta&amp;filippo/ontologies/2021/4/SemScript#>\n",
    "\n",
    "SELECT ?time\n",
    "WHERE { ?scene ex:scene_number 5.\n",
    "        ?scene ex:time ?time.}"
   ]
  },
  {
   "cell_type": "markdown",
   "id": "1a598dc0",
   "metadata": {},
   "source": [
    "## Query 6\n",
    "How many times is the word \"Facebook\" used?"
   ]
  },
  {
   "cell_type": "code",
   "execution_count": 8,
   "id": "7917f91d",
   "metadata": {},
   "outputs": [
    {
     "data": {
      "text/html": [
       "<div class=\"krn-spql\"><table><tr class=hdr><th>.1</th></tr><tr class=odd><td class=val>54</td></tr></table><div class=\"tinfo\">Total: 1, Shown: 1</div></div>"
      ]
     },
     "metadata": {},
     "output_type": "display_data"
    }
   ],
   "source": [
    "PREFIX ex:      <http://www.semanticweb.org/elisabetta&amp;filippo/ontologies/2021/4/SemScript#>\n",
    "\n",
    "SELECT count(?something)\n",
    "       WHERE { ?character ex:says ?something.\n",
    "               FILTER regex(?something, \"Facebook\", \"i\")}"
   ]
  },
  {
   "cell_type": "markdown",
   "id": "48540987",
   "metadata": {},
   "source": [
    "## Query 7\n",
    "Which is the starting page of the scene 0?"
   ]
  },
  {
   "cell_type": "code",
   "execution_count": 29,
   "id": "d2d7c1ce",
   "metadata": {},
   "outputs": [
    {
     "data": {
      "text/html": [
       "<div class=\"krn-spql\"><table><tr class=hdr><th>number</th></tr><tr class=odd><td class=val>1</td></tr></table><div class=\"tinfo\">Total: 1, Shown: 1</div></div>"
      ]
     },
     "metadata": {},
     "output_type": "display_data"
    }
   ],
   "source": [
    "PREFIX ex:      <http://www.semanticweb.org/elisabetta&amp;filippo/ontologies/2021/4/SemScript#>\n",
    "\n",
    "SELECT (min(?page) AS ?number)\n",
    "WHERE { ?scene ex:scene_number 0;\n",
    "        ex:page ?page.}"
   ]
  },
  {
   "cell_type": "markdown",
   "id": "b59be747",
   "metadata": {},
   "source": [
    "## Query 8\n",
    "How many times do the characters EDUARDO and DUSTIN appear in the same scene?"
   ]
  },
  {
   "cell_type": "code",
   "execution_count": 40,
   "id": "84c02050",
   "metadata": {},
   "outputs": [
    {
     "data": {
      "text/html": [
       "<div class=\"krn-spql\"><table><tr class=hdr><th>times</th></tr><tr class=odd><td class=val>0</td></tr></table><div class=\"tinfo\">Total: 1, Shown: 1</div></div>"
      ]
     },
     "metadata": {},
     "output_type": "display_data"
    }
   ],
   "source": [
    "PREFIX ex:      <http://www.semanticweb.org/elisabetta&amp;filippo/ontologies/2021/4/SemScript#>\n",
    "\n",
    "SELECT (count(?dualDialogueScene) AS ?times)\n",
    "          WHERE { ?dualDialogueScene ex:hasActor1 \"EDUARDO\".\n",
    "                  ?dualDialogueScene ex:hasActor2 \"DUSTIN\".}"
   ]
  },
  {
   "cell_type": "markdown",
   "id": "43b50740",
   "metadata": {},
   "source": [
    "## Query 9\n",
    "Which are the titles of all the movies inside the dataset?"
   ]
  },
  {
   "cell_type": "code",
   "execution_count": 41,
   "id": "7bbd6135",
   "metadata": {},
   "outputs": [
    {
     "data": {
      "text/html": [
       "<div class=\"krn-spql\"><table><tr class=hdr><th>title</th></tr><tr class=odd><td class=val>The social network</td></tr><tr class=even><td class=val>Marriage story</td></tr></table><div class=\"tinfo\">Total: 2, Shown: 2</div></div>"
      ]
     },
     "metadata": {},
     "output_type": "display_data"
    }
   ],
   "source": [
    "PREFIX ex:      <http://www.semanticweb.org/elisabetta&amp;filippo/ontologies/2021/4/SemScript#>\n",
    "PREFIX  :       <>\n",
    "\n",
    "SELECT ?title\n",
    "{\n",
    "?g ex:title ?title.\n",
    "}"
   ]
  }
 ],
 "metadata": {
  "kernelspec": {
   "display_name": "SPARQL",
   "language": "sparql",
   "name": "sparql"
  },
  "language_info": {
   "codemirror_mode": {
    "name": "sparql"
   },
   "mimetype": "application/sparql-query",
   "name": "sparql",
   "pygments_lexer": "sparql-nb"
  }
 },
 "nbformat": 4,
 "nbformat_minor": 5
}
